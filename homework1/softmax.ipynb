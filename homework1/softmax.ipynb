{
 "cells": [
  {
   "cell_type": "markdown",
   "source": [
    "# Softmax exercise\n",
    "\n",
    "*Complete and hand in this completed worksheet (including its outputs and any supporting code outside of the worksheet) with your assignment submission. \n",
    "This exercise is analogous to the SVM exercise. You will:\n",
    "\n",
    "- implement a fully-vectorized **loss function** for the Softmax classifier\n",
    "- implement the fully-vectorized expression for its **analytic gradient**\n",
    "- **check your implementation** with numerical gradient\n",
    "- use a validation set to **tune the learning rate and regularization** strength\n",
    "- **optimize** the loss function with **SGD**\n",
    "- **visualize** the final learned weights\n"
   ],
   "metadata": {
    "tags": [
     "pdf-title"
    ]
   }
  },
  {
   "cell_type": "code",
   "execution_count": 1,
   "source": [
    "import random\r\n",
    "import numpy as np\r\n",
    "from sducs2019.data_utils import load_CIFAR10\r\n",
    "import matplotlib.pyplot as plt\r\n",
    "\r\n",
    "%matplotlib inline\r\n",
    "plt.rcParams['figure.figsize'] = (10.0, 8.0) # set default size of plots\r\n",
    "plt.rcParams['image.interpolation'] = 'nearest'\r\n",
    "plt.rcParams['image.cmap'] = 'gray'\r\n",
    "\r\n",
    "# for auto-reloading extenrnal modules\r\n",
    "# see http://stackoverflow.com/questions/1907993/autoreload-of-modules-in-ipython\r\n",
    "%load_ext autoreload\r\n",
    "%autoreload 2"
   ],
   "outputs": [],
   "metadata": {
    "tags": [
     "pdf-ignore"
    ]
   }
  },
  {
   "cell_type": "code",
   "execution_count": 2,
   "source": [
    "def get_CIFAR10_data(num_training=49000, num_validation=1000, num_test=1000, num_dev=500):\r\n",
    "    \"\"\"\r\n",
    "    Load the CIFAR-10 dataset from disk and perform preprocessing to prepare\r\n",
    "    it for the linear classifier. These are the same steps as we used for the\r\n",
    "    SVM, but condensed to a single function.  \r\n",
    "    \"\"\"\r\n",
    "    # Load the raw CIFAR-10 data\r\n",
    "    cifar10_dir = 'sducs2019/datasets/cifar-10-batches-py'\r\n",
    "    \r\n",
    "    # Cleaning up variables to prevent loading data multiple times (which may cause memory issue)\r\n",
    "    try:\r\n",
    "       del X_train, y_train\r\n",
    "       del X_test, y_test\r\n",
    "       print('Clear previously loaded data.')\r\n",
    "    except:\r\n",
    "       pass\r\n",
    "\r\n",
    "    X_train, y_train, X_test, y_test = load_CIFAR10(cifar10_dir)\r\n",
    "    \r\n",
    "    # subsample the data\r\n",
    "    mask = list(range(num_training, num_training + num_validation))\r\n",
    "    X_val = X_train[mask]\r\n",
    "    y_val = y_train[mask]\r\n",
    "    mask = list(range(num_training))\r\n",
    "    X_train = X_train[mask]\r\n",
    "    y_train = y_train[mask]\r\n",
    "    mask = list(range(num_test))\r\n",
    "    X_test = X_test[mask]\r\n",
    "    y_test = y_test[mask]\r\n",
    "    mask = np.random.choice(num_training, num_dev, replace=False)\r\n",
    "    X_dev = X_train[mask]\r\n",
    "    y_dev = y_train[mask]\r\n",
    "    \r\n",
    "    # Preprocessing: reshape the image data into rows\r\n",
    "    X_train = np.reshape(X_train, (X_train.shape[0], -1))\r\n",
    "    X_val = np.reshape(X_val, (X_val.shape[0], -1))\r\n",
    "    X_test = np.reshape(X_test, (X_test.shape[0], -1))\r\n",
    "    X_dev = np.reshape(X_dev, (X_dev.shape[0], -1))\r\n",
    "    \r\n",
    "    # Normalize the data: subtract the mean image\r\n",
    "    mean_image = np.mean(X_train, axis = 0)\r\n",
    "    X_train -= mean_image\r\n",
    "    X_val -= mean_image\r\n",
    "    X_test -= mean_image\r\n",
    "    X_dev -= mean_image\r\n",
    "    \r\n",
    "    # add bias dimension and transform into columns\r\n",
    "    X_train = np.hstack([X_train, np.ones((X_train.shape[0], 1))])\r\n",
    "    X_val = np.hstack([X_val, np.ones((X_val.shape[0], 1))])\r\n",
    "    X_test = np.hstack([X_test, np.ones((X_test.shape[0], 1))])\r\n",
    "    X_dev = np.hstack([X_dev, np.ones((X_dev.shape[0], 1))])\r\n",
    "    \r\n",
    "    return X_train, y_train, X_val, y_val, X_test, y_test, X_dev, y_dev\r\n",
    "\r\n",
    "\r\n",
    "# Invoke the above function to get our data.\r\n",
    "X_train, y_train, X_val, y_val, X_test, y_test, X_dev, y_dev = get_CIFAR10_data()\r\n",
    "print('Train data shape: ', X_train.shape)\r\n",
    "print('Train labels shape: ', y_train.shape)\r\n",
    "print('Validation data shape: ', X_val.shape)\r\n",
    "print('Validation labels shape: ', y_val.shape)\r\n",
    "print('Test data shape: ', X_test.shape)\r\n",
    "print('Test labels shape: ', y_test.shape)\r\n",
    "print('dev data shape: ', X_dev.shape)\r\n",
    "print('dev labels shape: ', y_dev.shape)"
   ],
   "outputs": [
    {
     "output_type": "stream",
     "name": "stdout",
     "text": [
      "Train data shape:  (49000, 3073)\n",
      "Train labels shape:  (49000,)\n",
      "Validation data shape:  (1000, 3073)\n",
      "Validation labels shape:  (1000,)\n",
      "Test data shape:  (1000, 3073)\n",
      "Test labels shape:  (1000,)\n",
      "dev data shape:  (500, 3073)\n",
      "dev labels shape:  (500,)\n"
     ]
    }
   ],
   "metadata": {
    "tags": [
     "pdf-ignore"
    ]
   }
  },
  {
   "cell_type": "markdown",
   "source": [
    "## Softmax Classifier\n",
    "\n",
    "Your code for this section will all be written inside **sducs2019/classifiers/softmax.py**. \n"
   ],
   "metadata": {}
  },
  {
   "cell_type": "code",
   "execution_count": 5,
   "source": [
    "# First implement the naive softmax loss function with nested loops.\r\n",
    "# Open the file sducs2019/classifiers/softmax.py and implement the\r\n",
    "# softmax_loss_naive function.\r\n",
    "\r\n",
    "from sducs2019.classifiers.softmax import softmax_loss_naive\r\n",
    "import time\r\n",
    "\r\n",
    "# Generate a random softmax weight matrix and use it to compute the loss.\r\n",
    "W = np.random.randn(3073, 10) * 0.0001\r\n",
    "loss, grad = softmax_loss_naive(W, X_dev, y_dev, 0.0)\r\n",
    "\r\n",
    "# As a rough sanity check, our loss should be something close to -log(0.1).\r\n",
    "print('loss: %f' % loss)\r\n",
    "print('sanity check: %f' % (-np.log(0.1)))"
   ],
   "outputs": [
    {
     "output_type": "stream",
     "name": "stdout",
     "text": [
      "loss: 2.427571\n",
      "sanity check: 2.302585\n"
     ]
    }
   ],
   "metadata": {}
  },
  {
   "cell_type": "markdown",
   "source": [
    "**Inline Question 1**\n",
    "\n",
    "Why do we expect our loss to be close to -log(0.1)? Explain briefly.**\n",
    "\n",
    "$\\color{blue}{\\textit Your Answer:}$ *Fill this in* \n",
    "\n"
   ],
   "metadata": {
    "tags": [
     "pdf-inline"
    ]
   }
  },
  {
   "cell_type": "code",
   "execution_count": 6,
   "source": [
    "# Complete the implementation of softmax_loss_naive and implement a (naive)\r\n",
    "# version of the gradient that uses nested loops.\r\n",
    "loss, grad = softmax_loss_naive(W, X_dev, y_dev, 0.0)\r\n",
    "\r\n",
    "# As we did for the SVM, use numeric gradient checking as a debugging tool.\r\n",
    "# The numeric gradient should be close to the analytic gradient.\r\n",
    "from sducs2019.gradient_check import grad_check_sparse\r\n",
    "f = lambda w: softmax_loss_naive(w, X_dev, y_dev, 0.0)[0]\r\n",
    "grad_numerical = grad_check_sparse(f, W, grad, 10)\r\n",
    "\r\n",
    "# similar to SVM case, do another gradient check with regularization\r\n",
    "loss, grad = softmax_loss_naive(W, X_dev, y_dev, 5e1)\r\n",
    "f = lambda w: softmax_loss_naive(w, X_dev, y_dev, 5e1)[0]\r\n",
    "grad_numerical = grad_check_sparse(f, W, grad, 10)"
   ],
   "outputs": [
    {
     "output_type": "stream",
     "name": "stdout",
     "text": [
      "numerical: 0.079661 analytic: 0.079661, relative error: 3.865443e-07\n",
      "numerical: -1.181422 analytic: -1.181422, relative error: 4.466027e-09\n",
      "numerical: 1.405747 analytic: 1.405746, relative error: 7.934212e-08\n",
      "numerical: -3.089595 analytic: -3.089595, relative error: 1.021450e-09\n",
      "numerical: 2.427609 analytic: 2.427608, relative error: 4.185330e-08\n",
      "numerical: 1.941577 analytic: 1.941577, relative error: 1.100090e-08\n",
      "numerical: -0.318867 analytic: -0.318867, relative error: 1.786428e-08\n",
      "numerical: -3.806295 analytic: -3.806295, relative error: 2.996822e-09\n",
      "numerical: -0.394594 analytic: -0.394594, relative error: 1.061754e-07\n",
      "numerical: -0.784304 analytic: -0.784304, relative error: 8.105562e-08\n",
      "numerical: 2.919046 analytic: 2.919045, relative error: 5.951399e-09\n",
      "numerical: 3.450504 analytic: 3.450504, relative error: 1.750243e-08\n",
      "numerical: -4.943616 analytic: -4.943616, relative error: 5.429211e-09\n",
      "numerical: -2.589352 analytic: -2.589352, relative error: 3.006262e-08\n",
      "numerical: 0.363074 analytic: 0.363074, relative error: 6.690791e-08\n",
      "numerical: 4.265955 analytic: 4.265955, relative error: 1.733177e-08\n",
      "numerical: -2.046166 analytic: -2.046166, relative error: 1.085178e-08\n",
      "numerical: 0.317952 analytic: 0.317952, relative error: 6.458207e-08\n",
      "numerical: 1.048623 analytic: 1.048623, relative error: 9.822096e-09\n",
      "numerical: -0.672496 analytic: -0.672496, relative error: 1.060546e-08\n"
     ]
    }
   ],
   "metadata": {}
  },
  {
   "cell_type": "code",
   "execution_count": 7,
   "source": [
    "# Now that we have a naive implementation of the softmax loss function and its gradient,\r\n",
    "# implement a vectorized version in softmax_loss_vectorized.\r\n",
    "# The two versions should compute the same results, but the vectorized version should be\r\n",
    "# much faster.\r\n",
    "tic = time.time()\r\n",
    "loss_naive, grad_naive = softmax_loss_naive(W, X_dev, y_dev, 0.000005)\r\n",
    "toc = time.time()\r\n",
    "print('naive loss: %e computed in %fs' % (loss_naive, toc - tic))\r\n",
    "\r\n",
    "from sducs2019.classifiers.softmax import softmax_loss_vectorized\r\n",
    "tic = time.time()\r\n",
    "loss_vectorized, grad_vectorized = softmax_loss_vectorized(W, X_dev, y_dev, 0.000005)\r\n",
    "toc = time.time()\r\n",
    "print('vectorized loss: %e computed in %fs' % (loss_vectorized, toc - tic))\r\n",
    "\r\n",
    "# As we did for the SVM, we use the Frobenius norm to compare the two versions\r\n",
    "# of the gradient.\r\n",
    "grad_difference = np.linalg.norm(grad_naive - grad_vectorized, ord='fro')\r\n",
    "print('Loss difference: %f' % np.abs(loss_naive - loss_vectorized))\r\n",
    "print('Gradient difference: %f' % grad_difference)"
   ],
   "outputs": [
    {
     "output_type": "stream",
     "name": "stdout",
     "text": [
      "naive loss: 2.427571e+00 computed in 0.142212s\n",
      "vectorized loss: 2.427571e+00 computed in 0.006065s\n",
      "Loss difference: 0.000000\n",
      "Gradient difference: 0.000000\n"
     ]
    }
   ],
   "metadata": {}
  },
  {
   "cell_type": "code",
   "execution_count": 8,
   "source": [
    "# Use the validation set to tune hyperparameters (regularization strength and\r\n",
    "# learning rate). You should experiment with different ranges for the learning\r\n",
    "# rates and regularization strengths; if you are careful you should be able to\r\n",
    "# get a classification accuracy of over 0.35 on the validation set.\r\n",
    "from sducs2019.classifiers import Softmax\r\n",
    "results = {}\r\n",
    "best_val = -1\r\n",
    "best_softmax = None\r\n",
    "learning_rates = [1e-7, 5e-7]\r\n",
    "regularization_strengths = [2.5e4, 5e4]\r\n",
    "\r\n",
    "################################################################################\r\n",
    "# TODO:                                                                        #\r\n",
    "# Use the validation set to set the learning rate and regularization strength. #\r\n",
    "# This should be identical to the validation that you did for the SVM; save    #\r\n",
    "# the best trained softmax classifer in best_softmax.                          #\r\n",
    "################################################################################\r\n",
    "# *****START OF YOUR CODE (DO NOT DELETE/MODIFY THIS LINE)*****\r\n",
    "\r\n",
    "from sducs2019.classifiers.linear_classifier import Softmax\r\n",
    "for lr in learning_rates:\r\n",
    "    for rs in regularization_strengths:\r\n",
    "        softmax=Softmax()\r\n",
    "        softmax.train(X_train,y_train,learning_rate=lr,reg=rs,num_iters=500,verbose=True)\r\n",
    "        y_pred_train = softmax.predict(X_train)\r\n",
    "        acc_train = np.mean(y_pred_train == y_train)\r\n",
    "        y_pred_val = softmax.predict(X_val)\r\n",
    "        acc_val = np.mean(y_pred_val == y_val)\r\n",
    "        results[(lr, rs)] = (acc_train, acc_val)\r\n",
    "        if acc_val > best_val:\r\n",
    "            best_val = acc_val\r\n",
    "            best_softmax = softmax\r\n",
    "        \r\n",
    "\r\n",
    "# *****END OF YOUR CODE (DO NOT DELETE/MODIFY THIS LINE)*****\r\n",
    "    \r\n",
    "# Print out results.\r\n",
    "for lr, reg in sorted(results):\r\n",
    "    train_accuracy, val_accuracy = results[(lr, reg)]\r\n",
    "    print('lr %e reg %e train accuracy: %f val accuracy: %f' % (\r\n",
    "                lr, reg, train_accuracy, val_accuracy))\r\n",
    "    \r\n",
    "print('best validation accuracy achieved during cross-validation: %f' % best_val)"
   ],
   "outputs": [
    {
     "output_type": "stream",
     "name": "stdout",
     "text": [
      "iteration 0 / 500: loss 390.872208\n",
      "iteration 100 / 500: loss 236.360862\n",
      "iteration 200 / 500: loss 143.478477\n",
      "iteration 300 / 500: loss 87.609671\n",
      "iteration 400 / 500: loss 53.808228\n",
      "iteration 0 / 500: loss 778.716370\n",
      "iteration 100 / 500: loss 286.015416\n",
      "iteration 200 / 500: loss 106.204835\n",
      "iteration 300 / 500: loss 40.080973\n",
      "iteration 400 / 500: loss 15.952123\n",
      "iteration 0 / 500: loss 384.678550\n",
      "iteration 100 / 500: loss 32.492927\n",
      "iteration 200 / 500: loss 4.482550\n",
      "iteration 300 / 500: loss 2.218435\n",
      "iteration 400 / 500: loss 2.113830\n",
      "iteration 0 / 500: loss 772.994534\n",
      "iteration 100 / 500: loss 6.884452\n",
      "iteration 200 / 500: loss 2.061724\n",
      "iteration 300 / 500: loss 2.100931\n",
      "iteration 400 / 500: loss 2.088726\n",
      "lr 1.000000e-07 reg 2.500000e+04 train accuracy: 0.267653 val accuracy: 0.268000\n",
      "lr 1.000000e-07 reg 5.000000e+04 train accuracy: 0.304490 val accuracy: 0.312000\n",
      "lr 5.000000e-07 reg 2.500000e+04 train accuracy: 0.343878 val accuracy: 0.353000\n",
      "lr 5.000000e-07 reg 5.000000e+04 train accuracy: 0.315082 val accuracy: 0.331000\n",
      "best validation accuracy achieved during cross-validation: 0.353000\n"
     ]
    }
   ],
   "metadata": {
    "tags": [
     "code"
    ]
   }
  },
  {
   "cell_type": "code",
   "execution_count": 9,
   "source": [
    "# evaluate on test set\r\n",
    "# Evaluate the best softmax on test set\r\n",
    "y_test_pred = best_softmax.predict(X_test)\r\n",
    "test_accuracy = np.mean(y_test == y_test_pred)\r\n",
    "print('softmax on raw pixels final test set accuracy: %f' % (test_accuracy, ))"
   ],
   "outputs": [
    {
     "output_type": "stream",
     "name": "stdout",
     "text": [
      "softmax on raw pixels final test set accuracy: 0.345000\n"
     ]
    }
   ],
   "metadata": {}
  },
  {
   "cell_type": "markdown",
   "source": [
    "**Inline Question 2** - *True or False*\n",
    "\n",
    "Suppose the overall training loss is defined as the sum of the per-datapoint loss over all training examples. It is possible to add a new datapoint to a training set that would leave the SVM loss unchanged, but this is not the case with the Softmax classifier loss.\n",
    "\n",
    "$\\color{blue}{\\textit Your Answer:}$\n",
    "\n",
    "\n",
    "$\\color{blue}{\\textit Your Explanation:}$\n",
    "\n"
   ],
   "metadata": {
    "tags": [
     "pdf-inline"
    ]
   }
  },
  {
   "cell_type": "code",
   "execution_count": 10,
   "source": [
    "# Visualize the learned weights for each class\r\n",
    "w = best_softmax.W[:-1,:] # strip out the bias\r\n",
    "w = w.reshape(32, 32, 3, 10)\r\n",
    "\r\n",
    "w_min, w_max = np.min(w), np.max(w)\r\n",
    "\r\n",
    "classes = ['plane', 'car', 'bird', 'cat', 'deer', 'dog', 'frog', 'horse', 'ship', 'truck']\r\n",
    "for i in range(10):\r\n",
    "    plt.subplot(2, 5, i + 1)\r\n",
    "    \r\n",
    "    # Rescale the weights to be between 0 and 255\r\n",
    "    wimg = 255.0 * (w[:, :, :, i].squeeze() - w_min) / (w_max - w_min)\r\n",
    "    plt.imshow(wimg.astype('uint8'))\r\n",
    "    plt.axis('off')\r\n",
    "    plt.title(classes[i])"
   ],
   "outputs": [
    {
     "output_type": "display_data",
     "data": {
      "image/png": "[encoded data removed]",
      "text/plain": [
       "<Figure size 720x576 with 10 Axes>"
      ]
     },
     "metadata": {
      "needs_background": "light"
     }
    }
   ],
   "metadata": {}
  }
 ],
 "metadata": {
  "kernelspec": {
   "name": "python3",
   "display_name": "Python 3.9.0 64-bit"
  },
  "language_info": {
   "codemirror_mode": {
    "name": "ipython",
    "version": 3
   },
   "file_extension": ".py",
   "mimetype": "text/x-python",
   "name": "python",
   "nbconvert_exporter": "python",
   "pygments_lexer": "ipython3",
   "version": "3.9.0"
  },
  "interpreter": {
   "hash": "51c8cd85415ca7a58b9cef4148468fb2fb5fbe3ae1b163d7011bd4502ecb6af9"
  }
 },
 "nbformat": 4,
 "nbformat_minor": 4
}